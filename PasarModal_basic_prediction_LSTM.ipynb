{
 "cells": [
  {
   "cell_type": "markdown",
   "metadata": {},
   "source": [
    "# Prediksi Pasar Modal dengan LSTM\n",
    "\n",
    "LSTM sangat efektif dalam memprediksi data sekuensial karena dapat menyimpan informasi masa lalu. Hal ini penting dalam kasus prediksi pasar modal karena harga saham sebelumnya sangat penting dalam memprediksi harga di masa depan."
   ]
  },
  {
   "cell_type": "markdown",
   "metadata": {},
   "source": [
    "## A.\tImport the libraries\n",
    "\n",
    "Import beberapa packages yang akan digunakan yaitu;\n",
    "-\tNumpy untuk pengolahan data matematis.\n",
    "-\tMatplotlib untuk menggambar grafik\n",
    "-\tPandas untuk memuat dan mengolah dataset"
   ]
  },
  {
   "cell_type": "code",
   "execution_count": null,
   "metadata": {},
   "outputs": [],
   "source": [
    "import numpy as np\n",
    "import matplotlib.pyplot as plt\n",
    "import pandas as pd"
   ]
  },
  {
   "cell_type": "markdown",
   "metadata": {},
   "source": [
    "## B.\tLoading the dataset\n",
    "\n",
    "a.\tDataset yang akan digunakan untuk training adalah data harga saham TATA dari waktu ke waktu. Data tersebut disimpan dalam file NSE-TATAGLOBAL.csv. Dataset tersebut mengandung beberapa kolom. Kolom Open adalah harga awal sedangkan kolom Close adalah harga akhir suatu saham pada hari perdagangan tertentu. Kolom High dan Low mewakili harga tertinggi dan terendah untuk hari tertentu. Hanya kolom Open yang akan digunakan sebagai training set."
   ]
  },
  {
   "cell_type": "code",
   "execution_count": 18,
   "metadata": {},
   "outputs": [],
   "source": [
    "dataset_train = pd.read_csv('NSE-TATAGLOBAL.csv')\n",
    "training_set = dataset_train.iloc[:, 1:2].values"
   ]
  },
  {
   "cell_type": "markdown",
   "metadata": {},
   "source": [
    "b.\tMenampilkan lima baris teratas dari dataset training, sekedar untuk memperjelas bentuk data yang akan digunakan."
   ]
  },
  {
   "cell_type": "code",
   "execution_count": 19,
   "metadata": {},
   "outputs": [
    {
     "data": {
      "text/html": [
       "<div>\n",
       "<style scoped>\n",
       "    .dataframe tbody tr th:only-of-type {\n",
       "        vertical-align: middle;\n",
       "    }\n",
       "\n",
       "    .dataframe tbody tr th {\n",
       "        vertical-align: top;\n",
       "    }\n",
       "\n",
       "    .dataframe thead th {\n",
       "        text-align: right;\n",
       "    }\n",
       "</style>\n",
       "<table border=\"1\" class=\"dataframe\">\n",
       "  <thead>\n",
       "    <tr style=\"text-align: right;\">\n",
       "      <th></th>\n",
       "      <th>Date</th>\n",
       "      <th>Open</th>\n",
       "      <th>High</th>\n",
       "      <th>Low</th>\n",
       "      <th>Last</th>\n",
       "      <th>Close</th>\n",
       "      <th>Total Trade Quantity</th>\n",
       "      <th>Turnover (Lacs)</th>\n",
       "    </tr>\n",
       "  </thead>\n",
       "  <tbody>\n",
       "    <tr>\n",
       "      <th>0</th>\n",
       "      <td>2018-09-28</td>\n",
       "      <td>234.05</td>\n",
       "      <td>235.95</td>\n",
       "      <td>230.20</td>\n",
       "      <td>233.50</td>\n",
       "      <td>233.75</td>\n",
       "      <td>3069914</td>\n",
       "      <td>7162.35</td>\n",
       "    </tr>\n",
       "    <tr>\n",
       "      <th>1</th>\n",
       "      <td>2018-09-27</td>\n",
       "      <td>234.55</td>\n",
       "      <td>236.80</td>\n",
       "      <td>231.10</td>\n",
       "      <td>233.80</td>\n",
       "      <td>233.25</td>\n",
       "      <td>5082859</td>\n",
       "      <td>11859.95</td>\n",
       "    </tr>\n",
       "    <tr>\n",
       "      <th>2</th>\n",
       "      <td>2018-09-26</td>\n",
       "      <td>240.00</td>\n",
       "      <td>240.00</td>\n",
       "      <td>232.50</td>\n",
       "      <td>235.00</td>\n",
       "      <td>234.25</td>\n",
       "      <td>2240909</td>\n",
       "      <td>5248.60</td>\n",
       "    </tr>\n",
       "    <tr>\n",
       "      <th>3</th>\n",
       "      <td>2018-09-25</td>\n",
       "      <td>233.30</td>\n",
       "      <td>236.75</td>\n",
       "      <td>232.00</td>\n",
       "      <td>236.25</td>\n",
       "      <td>236.10</td>\n",
       "      <td>2349368</td>\n",
       "      <td>5503.90</td>\n",
       "    </tr>\n",
       "    <tr>\n",
       "      <th>4</th>\n",
       "      <td>2018-09-24</td>\n",
       "      <td>233.55</td>\n",
       "      <td>239.20</td>\n",
       "      <td>230.75</td>\n",
       "      <td>234.00</td>\n",
       "      <td>233.30</td>\n",
       "      <td>3423509</td>\n",
       "      <td>7999.55</td>\n",
       "    </tr>\n",
       "  </tbody>\n",
       "</table>\n",
       "</div>"
      ],
      "text/plain": [
       "         Date    Open    High     Low    Last   Close  Total Trade Quantity  \\\n",
       "0  2018-09-28  234.05  235.95  230.20  233.50  233.75               3069914   \n",
       "1  2018-09-27  234.55  236.80  231.10  233.80  233.25               5082859   \n",
       "2  2018-09-26  240.00  240.00  232.50  235.00  234.25               2240909   \n",
       "3  2018-09-25  233.30  236.75  232.00  236.25  236.10               2349368   \n",
       "4  2018-09-24  233.55  239.20  230.75  234.00  233.30               3423509   \n",
       "\n",
       "   Turnover (Lacs)  \n",
       "0          7162.35  \n",
       "1         11859.95  \n",
       "2          5248.60  \n",
       "3          5503.90  \n",
       "4          7999.55  "
      ]
     },
     "execution_count": 19,
     "metadata": {},
     "output_type": "execute_result"
    }
   ],
   "source": [
    "dataset_train.head()"
   ]
  },
  {
   "cell_type": "markdown",
   "metadata": {},
   "source": [
    "## C.\tFeature Scaling\n",
    "\n",
    "Perlu dilakukan scaling pada data yang digunakan untuk mendapatkan performa model yang optimal. Pada tugas ini digunakan Scikit-Learn MinMaxScaler untuk memetakan data ke dalam skala antara nol dan satu."
   ]
  },
  {
   "cell_type": "code",
   "execution_count": 21,
   "metadata": {},
   "outputs": [],
   "source": [
    "from sklearn.preprocessing import MinMaxScaler\n",
    "sc = MinMaxScaler(feature_range = (0, 1))\n",
    "training_set_scaled = sc.fit_transform(training_set)"
   ]
  },
  {
   "cell_type": "markdown",
   "metadata": {},
   "source": [
    "## D.\tCreating Data with Timesteps\n",
    "\n",
    "LSTM mensyaratkan data yang digunakan telah dikodekan dalam format tertentu, umumnya array 3D. Pertama-tama, data dibagi dalam 60 timesteps dan mengonversinya menjadi sebuah array menggunakan NumPy. Selanjutnya, data dikonversi menjadi array 3 dimensi dengan sampel X_train, 60 timestamp, dan satu fitur di setiap step."
   ]
  },
  {
   "cell_type": "code",
   "execution_count": 22,
   "metadata": {},
   "outputs": [],
   "source": [
    "X_train = []\n",
    "y_train = []\n",
    "for i in range(60, 2035):\n",
    "    X_train.append(training_set_scaled[i-60:i, 0])\n",
    "    y_train.append(training_set_scaled[i, 0])\n",
    "X_train, y_train = np.array(X_train), np.array(y_train)\n",
    "\n",
    "X_train = np.reshape(X_train, (X_train.shape[0], X_train.shape[1], 1))"
   ]
  },
  {
   "cell_type": "markdown",
   "metadata": {},
   "source": [
    "## E.\tBuilding the LSTM\n",
    "\n",
    "a.\tUntuk membangun LSTM, perlu diimpor beberapa library dari Keras yaitu;\n",
    "-\tSequential untuk membuat neural network.\n",
    "-\tDense untuk membuat densely connected neural network layer\n",
    "-\tLSTM untuk membuat Long Short-Term Memory layer\n",
    "-\tDropout untuk membuat dropout layers yang dapat mencegah overfitting\n"
   ]
  },
  {
   "cell_type": "code",
   "execution_count": 23,
   "metadata": {},
   "outputs": [],
   "source": [
    "from keras.models import Sequential\n",
    "from keras.layers import Dense\n",
    "from keras.layers import LSTM\n",
    "from keras.layers import Dropout"
   ]
  },
  {
   "cell_type": "markdown",
   "metadata": {},
   "source": [
    "b.\tDibuat LSTM layer dengen beberapa argument yaitu;\n",
    "-\t50 units, yang menggambarkan dimensi output space\n",
    "-\treturn_sequences=True, yang memerintahkan output terakhir dari output sequence dijadikan return value.\n",
    "-\tInput shape yang menggambarkan ukuran training set\n",
    "\n",
    "Pada argumen pembuatan Dropout layer, didefinisikan nilai 0,2. Artinya, 20% dari layer akan dieliminasi. Kemudian, ditambahkan Dense layer yang mendefinisikan output dari satu unit. Model tersebut dicompile menggunakan Adam optimizer dan loss dihitung dengan mean_squared_error. Model dijalankan sebanyak 100 epoch dengan batch size sebesar 32. \n"
   ]
  },
  {
   "cell_type": "code",
   "execution_count": 24,
   "metadata": {},
   "outputs": [
    {
     "name": "stdout",
     "output_type": "stream",
     "text": [
      "Epoch 1/100\n",
      "1975/1975 [==============================] - 6s 3ms/step - loss: 0.0118\n",
      "Epoch 2/100\n",
      "1975/1975 [==============================] - 5s 2ms/step - loss: 0.0031\n",
      "Epoch 3/100\n",
      "1975/1975 [==============================] - 5s 2ms/step - loss: 0.0031\n",
      "Epoch 4/100\n",
      "1975/1975 [==============================] - 5s 2ms/step - loss: 0.0027\n",
      "Epoch 5/100\n",
      "1975/1975 [==============================] - 5s 2ms/step - loss: 0.0025\n",
      "Epoch 6/100\n",
      "1975/1975 [==============================] - 5s 2ms/step - loss: 0.0024\n",
      "Epoch 7/100\n",
      "1975/1975 [==============================] - 5s 2ms/step - loss: 0.0024\n",
      "Epoch 8/100\n",
      "1975/1975 [==============================] - 5s 2ms/step - loss: 0.0020\n",
      "Epoch 9/100\n",
      "1975/1975 [==============================] - 5s 2ms/step - loss: 0.0023\n",
      "Epoch 10/100\n",
      "1975/1975 [==============================] - 5s 2ms/step - loss: 0.0022\n",
      "Epoch 11/100\n",
      "1975/1975 [==============================] - 5s 2ms/step - loss: 0.0016\n",
      "Epoch 12/100\n",
      "1975/1975 [==============================] - 5s 2ms/step - loss: 0.0019\n",
      "Epoch 13/100\n",
      "1975/1975 [==============================] - 5s 2ms/step - loss: 0.0017\n",
      "Epoch 14/100\n",
      "1975/1975 [==============================] - 5s 2ms/step - loss: 0.0017\n",
      "Epoch 15/100\n",
      "1975/1975 [==============================] - 5s 3ms/step - loss: 0.0016\n",
      "Epoch 16/100\n",
      "1975/1975 [==============================] - 5s 2ms/step - loss: 0.0014\n",
      "Epoch 17/100\n",
      "1975/1975 [==============================] - 5s 3ms/step - loss: 0.0016\n",
      "Epoch 18/100\n",
      "1975/1975 [==============================] - 5s 2ms/step - loss: 0.0016\n",
      "Epoch 19/100\n",
      "1975/1975 [==============================] - 5s 3ms/step - loss: 0.0014\n",
      "Epoch 20/100\n",
      "1975/1975 [==============================] - 5s 3ms/step - loss: 0.0015\n",
      "Epoch 21/100\n",
      "1975/1975 [==============================] - 5s 3ms/step - loss: 0.0014\n",
      "Epoch 22/100\n",
      "1975/1975 [==============================] - 5s 3ms/step - loss: 0.0014\n",
      "Epoch 23/100\n",
      "1975/1975 [==============================] - 5s 3ms/step - loss: 0.0014\n",
      "Epoch 24/100\n",
      "1975/1975 [==============================] - 5s 3ms/step - loss: 0.0012\n",
      "Epoch 25/100\n",
      "1975/1975 [==============================] - 5s 3ms/step - loss: 0.0012\n",
      "Epoch 26/100\n",
      "1975/1975 [==============================] - 5s 3ms/step - loss: 0.0013\n",
      "Epoch 27/100\n",
      "1975/1975 [==============================] - 5s 3ms/step - loss: 0.0012\n",
      "Epoch 28/100\n",
      "1975/1975 [==============================] - 5s 2ms/step - loss: 0.0011\n",
      "Epoch 29/100\n",
      "1975/1975 [==============================] - 5s 2ms/step - loss: 0.0012\n",
      "Epoch 30/100\n",
      "1975/1975 [==============================] - 5s 2ms/step - loss: 0.0011\n",
      "Epoch 31/100\n",
      "1975/1975 [==============================] - 5s 2ms/step - loss: 0.0012\n",
      "Epoch 32/100\n",
      "1975/1975 [==============================] - 5s 2ms/step - loss: 0.0010\n",
      "Epoch 33/100\n",
      "1975/1975 [==============================] - 5s 2ms/step - loss: 0.0011\n",
      "Epoch 34/100\n",
      "1975/1975 [==============================] - 5s 2ms/step - loss: 0.0011\n",
      "Epoch 35/100\n",
      "1975/1975 [==============================] - 5s 2ms/step - loss: 0.0012\n",
      "Epoch 36/100\n",
      "1975/1975 [==============================] - 5s 2ms/step - loss: 0.0011\n",
      "Epoch 37/100\n",
      "1975/1975 [==============================] - 5s 2ms/step - loss: 0.0011\n",
      "Epoch 38/100\n",
      "1975/1975 [==============================] - 5s 2ms/step - loss: 9.6880e-04\n",
      "Epoch 39/100\n",
      "1975/1975 [==============================] - 5s 2ms/step - loss: 9.2332e-04\n",
      "Epoch 40/100\n",
      "1975/1975 [==============================] - 5s 2ms/step - loss: 9.8509e-04\n",
      "Epoch 41/100\n",
      "1975/1975 [==============================] - 5s 2ms/step - loss: 8.7709e-04\n",
      "Epoch 42/100\n",
      "1975/1975 [==============================] - 5s 2ms/step - loss: 9.6749e-04\n",
      "Epoch 43/100\n",
      "1975/1975 [==============================] - 5s 2ms/step - loss: 8.6348e-04\n",
      "Epoch 44/100\n",
      "1975/1975 [==============================] - 5s 2ms/step - loss: 0.0010\n",
      "Epoch 45/100\n",
      "1975/1975 [==============================] - 5s 2ms/step - loss: 8.9959e-04\n",
      "Epoch 46/100\n",
      "1975/1975 [==============================] - 5s 2ms/step - loss: 8.7065e-04\n",
      "Epoch 47/100\n",
      "1975/1975 [==============================] - 5s 2ms/step - loss: 9.7793e-04\n",
      "Epoch 48/100\n",
      "1975/1975 [==============================] - 5s 2ms/step - loss: 7.6305e-04\n",
      "Epoch 49/100\n",
      "1975/1975 [==============================] - 5s 2ms/step - loss: 8.8699e-04\n",
      "Epoch 50/100\n",
      "1975/1975 [==============================] - 5s 2ms/step - loss: 8.7502e-04\n",
      "Epoch 51/100\n",
      "1975/1975 [==============================] - 5s 2ms/step - loss: 8.3398e-04\n",
      "Epoch 52/100\n",
      "1975/1975 [==============================] - 5s 2ms/step - loss: 7.8387e-04\n",
      "Epoch 53/100\n",
      "1975/1975 [==============================] - 5s 3ms/step - loss: 9.2691e-04\n",
      "Epoch 54/100\n",
      "1975/1975 [==============================] - 5s 3ms/step - loss: 9.3282e-04\n",
      "Epoch 55/100\n",
      "1975/1975 [==============================] - 5s 2ms/step - loss: 7.9074e-04\n",
      "Epoch 56/100\n",
      "1975/1975 [==============================] - 5s 2ms/step - loss: 7.9916e-04\n",
      "Epoch 57/100\n",
      "1975/1975 [==============================] - 5s 2ms/step - loss: 8.3371e-04\n",
      "Epoch 58/100\n",
      "1975/1975 [==============================] - 5s 2ms/step - loss: 7.6570e-04\n",
      "Epoch 59/100\n",
      "1975/1975 [==============================] - 5s 2ms/step - loss: 7.5304e-04\n",
      "Epoch 60/100\n",
      "1975/1975 [==============================] - 5s 3ms/step - loss: 7.4938e-04\n",
      "Epoch 61/100\n",
      "1975/1975 [==============================] - 5s 3ms/step - loss: 8.0504e-04\n",
      "Epoch 62/100\n",
      "1975/1975 [==============================] - 5s 2ms/step - loss: 8.0853e-04\n",
      "Epoch 63/100\n",
      "1975/1975 [==============================] - 5s 2ms/step - loss: 7.5238e-04\n",
      "Epoch 64/100\n",
      "1975/1975 [==============================] - 5s 2ms/step - loss: 7.5441e-04\n",
      "Epoch 65/100\n",
      "1975/1975 [==============================] - 5s 2ms/step - loss: 6.6844e-04\n",
      "Epoch 66/100\n",
      "1975/1975 [==============================] - 5s 2ms/step - loss: 7.7692e-04\n",
      "Epoch 67/100\n",
      "1975/1975 [==============================] - 5s 2ms/step - loss: 9.1073e-04\n",
      "Epoch 68/100\n",
      "1975/1975 [==============================] - 5s 2ms/step - loss: 7.4796e-04\n",
      "Epoch 69/100\n",
      "1975/1975 [==============================] - 5s 2ms/step - loss: 7.4972e-04\n",
      "Epoch 70/100\n",
      "1975/1975 [==============================] - 5s 2ms/step - loss: 7.2014e-04\n",
      "Epoch 71/100\n",
      "1975/1975 [==============================] - 5s 2ms/step - loss: 8.0186e-04\n",
      "Epoch 72/100\n",
      "1975/1975 [==============================] - 5s 2ms/step - loss: 8.1076e-04\n",
      "Epoch 73/100\n",
      "1975/1975 [==============================] - 5s 2ms/step - loss: 7.1223e-04\n",
      "Epoch 74/100\n",
      "1975/1975 [==============================] - 5s 2ms/step - loss: 7.1894e-04\n",
      "Epoch 75/100\n",
      "1975/1975 [==============================] - 5s 2ms/step - loss: 6.5158e-04\n",
      "Epoch 76/100\n",
      "1975/1975 [==============================] - 5s 2ms/step - loss: 6.9833e-04\n",
      "Epoch 77/100\n",
      "1975/1975 [==============================] - 5s 2ms/step - loss: 6.3140e-04\n",
      "Epoch 78/100\n",
      "1975/1975 [==============================] - 5s 2ms/step - loss: 6.6026e-04\n",
      "Epoch 79/100\n",
      "1975/1975 [==============================] - 5s 2ms/step - loss: 6.9273e-04\n",
      "Epoch 80/100\n",
      "1975/1975 [==============================] - 5s 2ms/step - loss: 9.9480e-04\n",
      "Epoch 81/100\n",
      "1975/1975 [==============================] - 5s 2ms/step - loss: 6.5177e-04\n",
      "Epoch 82/100\n",
      "1975/1975 [==============================] - 5s 2ms/step - loss: 6.9405e-04\n",
      "Epoch 83/100\n",
      "1975/1975 [==============================] - 5s 2ms/step - loss: 6.8415e-04\n",
      "Epoch 84/100\n",
      "1975/1975 [==============================] - 5s 2ms/step - loss: 6.7986e-04\n",
      "Epoch 85/100\n",
      "1975/1975 [==============================] - 5s 2ms/step - loss: 6.2214e-04\n",
      "Epoch 86/100\n",
      "1975/1975 [==============================] - 5s 2ms/step - loss: 7.2277e-04\n",
      "Epoch 87/100\n",
      "1975/1975 [==============================] - 5s 2ms/step - loss: 6.1365e-04\n",
      "Epoch 88/100\n",
      "1975/1975 [==============================] - 5s 2ms/step - loss: 6.1111e-04\n",
      "Epoch 89/100\n",
      "1975/1975 [==============================] - 5s 2ms/step - loss: 6.6840e-04\n",
      "Epoch 90/100\n",
      "1975/1975 [==============================] - 5s 2ms/step - loss: 6.8931e-04\n",
      "Epoch 91/100\n",
      "1975/1975 [==============================] - 5s 2ms/step - loss: 7.0811e-04\n",
      "Epoch 92/100\n",
      "1975/1975 [==============================] - 5s 2ms/step - loss: 6.9116e-04\n",
      "Epoch 93/100\n",
      "1975/1975 [==============================] - 5s 2ms/step - loss: 6.6556e-04\n",
      "Epoch 94/100\n",
      "1975/1975 [==============================] - 5s 2ms/step - loss: 6.3412e-04\n",
      "Epoch 95/100\n",
      "1975/1975 [==============================] - 5s 2ms/step - loss: 6.1883e-04\n",
      "Epoch 96/100\n",
      "1975/1975 [==============================] - 5s 2ms/step - loss: 7.0746e-04\n",
      "Epoch 97/100\n",
      "1975/1975 [==============================] - 5s 2ms/step - loss: 6.8091e-04\n",
      "Epoch 98/100\n",
      "1975/1975 [==============================] - 5s 2ms/step - loss: 7.0907e-04\n",
      "Epoch 99/100\n",
      "1975/1975 [==============================] - 5s 2ms/step - loss: 6.9130e-04\n",
      "Epoch 100/100\n",
      "1975/1975 [==============================] - 5s 2ms/step - loss: 5.3952e-04\n"
     ]
    },
    {
     "data": {
      "text/plain": [
       "<keras.callbacks.callbacks.History at 0xd22fa3b4a8>"
      ]
     },
     "execution_count": 24,
     "metadata": {},
     "output_type": "execute_result"
    }
   ],
   "source": [
    "regressor = Sequential()\n",
    "\n",
    "regressor.add(LSTM(units = 50, return_sequences = True, input_shape = (X_train.shape[1], 1)))\n",
    "regressor.add(Dropout(0.2))\n",
    "\n",
    "regressor.add(LSTM(units = 50, return_sequences = True))\n",
    "regressor.add(Dropout(0.2))\n",
    "\n",
    "regressor.add(LSTM(units = 50, return_sequences = True))\n",
    "regressor.add(Dropout(0.2))\n",
    "\n",
    "regressor.add(LSTM(units = 50))\n",
    "regressor.add(Dropout(0.2))\n",
    "\n",
    "regressor.add(Dense(units = 1))\n",
    "\n",
    "regressor.compile(optimizer = 'adam', loss = 'mean_squared_error')\n",
    "\n",
    "regressor.fit(X_train, y_train, epochs = 100, batch_size = 32)"
   ]
  },
  {
   "cell_type": "markdown",
   "metadata": {},
   "source": [
    "## F.\tPredicting Future Stock using the Test Set\n",
    "\n",
    "a.\tSetelah membangun model, sekarang saatnya untuk menguji kinerjanya. Pertama-tama, perlu diimpor test set yang akan digunakan untuk membuat prediksi. Dataset yang akan digunakan untuk testing disimpan dalam file tatatest.csv. File tersebut memiliki format yang sama dengan dataset training. Hanya kolom Open yang akan digunakan sebagai test set.\n"
   ]
  },
  {
   "cell_type": "code",
   "execution_count": 25,
   "metadata": {},
   "outputs": [],
   "source": [
    "dataset_test = pd.read_csv('tatatest.csv')\n",
    "real_stock_price = dataset_test.iloc[:, 1:2].values"
   ]
  },
  {
   "cell_type": "markdown",
   "metadata": {},
   "source": [
    "b.\tUntuk melakukan prediksi harga saham, kita perlu melakukan beberapa hal setelah memuat test set:\n",
    "-\tGabungkan training set dan test set pada sumbu 0.\n",
    "-\tAtur time step sebesar 60 (seperti pada tahap sebelumnya)\n",
    "-\tGunakan MinMaxScaler untuk mentransformasikan dataset baru tersebut\n",
    "-\tKembalikan bentuk dataset menjadi bentuk sebelumnya\n",
    "-\tSetelah membuat prediksi, gunakan inverse_transform untuk mengembalikan harga saham ke dalam format yang mudah dibaca.\n"
   ]
  },
  {
   "cell_type": "code",
   "execution_count": 26,
   "metadata": {},
   "outputs": [],
   "source": [
    "dataset_total = pd.concat((dataset_train['Open'], dataset_test['Open']), axis = 0)\n",
    "inputs = dataset_total[len(dataset_total) - len(dataset_test) - 60:].values\n",
    "inputs = inputs.reshape(-1,1)\n",
    "inputs = sc.transform(inputs)\n",
    "X_test = []\n",
    "for i in range(60, 76):\n",
    "    X_test.append(inputs[i-60:i, 0])\n",
    "X_test = np.array(X_test)\n",
    "X_test = np.reshape(X_test, (X_test.shape[0], X_test.shape[1], 1))\n",
    "predicted_stock_price = regressor.predict(X_test)\n",
    "predicted_stock_price = sc.inverse_transform(predicted_stock_price)"
   ]
  },
  {
   "cell_type": "markdown",
   "metadata": {},
   "source": [
    "## G.\tPlotting the Result\n",
    "Gunakan Matplotlib untuk memvisualisasikan harga saham hasil prediksi dan harga saham yang sebenarnya."
   ]
  },
  {
   "cell_type": "code",
   "execution_count": 27,
   "metadata": {},
   "outputs": [
    {
     "data": {
      "image/png": "[encoded data removed]",
      "text/plain": [
       "<Figure size 432x288 with 1 Axes>"
      ]
     },
     "metadata": {
      "needs_background": "light"
     },
     "output_type": "display_data"
    }
   ],
   "source": [
    "plt.plot(real_stock_price, color = 'black', label = 'TATA Stock Price')\n",
    "plt.plot(predicted_stock_price, color = 'green', label = 'Predicted TATA Stock Price')\n",
    "plt.title('TATA Stock Price Prediction')\n",
    "plt.xlabel('Time')\n",
    "plt.ylabel('TATA Stock Price')\n",
    "plt.legend()\n",
    "plt.show()"
   ]
  },
  {
   "cell_type": "markdown",
   "metadata": {},
   "source": [
    "Pada grafik tersebut dapat dilihat bahwa LSTM dapat memprediksi kenaikan dan penurunan harga saham TATA. Dengan demikian, dapat disimpulkan bahwa LSTM dapat memprediksi data sekuensial secara akurat.\n",
    "\n",
    "## H.\tTamat\n"
   ]
  },
  {
   "cell_type": "code",
   "execution_count": null,
   "metadata": {},
   "outputs": [],
   "source": []
  }
 ],
 "metadata": {
  "kernelspec": {
   "display_name": "Python 3",
   "language": "python",
   "name": "python3"
  },
  "language_info": {
   "codemirror_mode": {
    "name": "ipython",
    "version": 3
   },
   "file_extension": ".py",
   "mimetype": "text/x-python",
   "name": "python",
   "nbconvert_exporter": "python",
   "pygments_lexer": "ipython3",
   "version": "3.6.5"
  }
 },
 "nbformat": 4,
 "nbformat_minor": 2
}
