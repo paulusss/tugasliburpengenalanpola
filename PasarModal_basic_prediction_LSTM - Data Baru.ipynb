{
 "cells": [
  {
   "cell_type": "markdown",
   "metadata": {},
   "source": [
    "# Prediksi Pasar Modal dengan LSTM dengan Dataset Baru\n",
    "\n",
    "LSTM sangat efektif dalam memprediksi data sekuensial karena dapat menyimpan informasi masa lalu. Hal ini penting dalam kasus prediksi pasar modal karena harga saham sebelumnya sangat penting dalam memprediksi harga di masa depan."
   ]
  },
  {
   "cell_type": "markdown",
   "metadata": {},
   "source": [
    "## A.\tCollecting the dataset\n",
    "\n",
    "Dataset yang digunakan yaitu dataset harga saham General Electric yang didapatkan dari situs Yahoo! Finance (https://finance.yahoo.com/quote/GE/history?p=GE). Data tersebut memuat pergerakan harga saham GE selama 250 hari kerja, yakni dari tanggal 12 Nopember 2018 hingga tanggal 8 Nopember 2019. Contoh format dataset yang didapatkan dari situs Yahoo! Finance dapat dilihat pada Gambar 1. Dataset tersebut dipisahkan untuk keperluan training dan testing, dengan ketentuan sebagai berikut;\n",
    "-\tData 7 Oktober 2019 hingga 8 Nopember 2019 (25 hari) digunakan sebagai data testing\n",
    "-\tData 12 nopember 2018 hingga 4 Oktober 2019 (225 hari) digunakan sebagai data training\n",
    "Masing - masing dataset disimpan dalam format CSV. Dataset testing disimpan dalam file GEtest.csv sedangkan dataset training disimpan dalam file NSE - GE.csv.\n",
    "\n",
    "<img src=\"images/Capture2.png\" style=\"width:500;height:300px;\">\n",
    "<caption><center> Gambar 1. Format dataset saham GE yang didapatkan dari situs Yahoo! Finance. </center></caption>"
   ]
  },
  {
   "cell_type": "markdown",
   "metadata": {},
   "source": [
    "## B.\tImport the libraries\n",
    "\n",
    "Import beberapa packages yang akan digunakan yaitu;\n",
    "-\tNumpy untuk pengolahan data matematis.\n",
    "-\tMatplotlib untuk menggambar grafik\n",
    "-\tPandas untuk memuat dan mengolah dataset"
   ]
  },
  {
   "cell_type": "code",
   "execution_count": 1,
   "metadata": {},
   "outputs": [],
   "source": [
    "import numpy as np\n",
    "import matplotlib.pyplot as plt\n",
    "import pandas as pd"
   ]
  },
  {
   "cell_type": "markdown",
   "metadata": {},
   "source": [
    "## C.\tLoading the dataset\n",
    "\n",
    "a.\tDataset yang akan digunakan untuk training adalah data harga saham GE dari waktu ke waktu. Data tersebut disimpan dalam file NSE-TATAGLOBAL.csv. Dataset tersebut mengandung beberapa kolom. Kolom Open adalah harga awal sedangkan kolom Close adalah harga akhir suatu saham pada hari perdagangan tertentu. Kolom High dan Low mewakili harga tertinggi dan terendah untuk hari tertentu. Hanya kolom Open yang akan digunakan sebagai training set."
   ]
  },
  {
   "cell_type": "code",
   "execution_count": 4,
   "metadata": {},
   "outputs": [],
   "source": [
    "dataset_train = pd.read_csv('NSE - GE.csv', sep = ';')\n",
    "training_set = dataset_train.iloc[:, 1:2].values"
   ]
  },
  {
   "cell_type": "markdown",
   "metadata": {},
   "source": [
    "b.\tMenampilkan lima baris teratas dari dataset training, sekedar untuk memperjelas bentuk data yang akan digunakan."
   ]
  },
  {
   "cell_type": "code",
   "execution_count": 5,
   "metadata": {},
   "outputs": [
    {
     "data": {
      "text/html": [
       "<div>\n",
       "<style scoped>\n",
       "    .dataframe tbody tr th:only-of-type {\n",
       "        vertical-align: middle;\n",
       "    }\n",
       "\n",
       "    .dataframe tbody tr th {\n",
       "        vertical-align: top;\n",
       "    }\n",
       "\n",
       "    .dataframe thead th {\n",
       "        text-align: right;\n",
       "    }\n",
       "</style>\n",
       "<table border=\"1\" class=\"dataframe\">\n",
       "  <thead>\n",
       "    <tr style=\"text-align: right;\">\n",
       "      <th></th>\n",
       "      <th>Date</th>\n",
       "      <th>Open</th>\n",
       "      <th>High</th>\n",
       "      <th>Low</th>\n",
       "      <th>Close*</th>\n",
       "      <th>Adj Close**</th>\n",
       "      <th>Volume</th>\n",
       "    </tr>\n",
       "  </thead>\n",
       "  <tbody>\n",
       "    <tr>\n",
       "      <th>0</th>\n",
       "      <td>Oct 04, 2019</td>\n",
       "      <td>8.61</td>\n",
       "      <td>8.70</td>\n",
       "      <td>8.54</td>\n",
       "      <td>8.57</td>\n",
       "      <td>8.57</td>\n",
       "      <td>52,272,800</td>\n",
       "    </tr>\n",
       "    <tr>\n",
       "      <th>1</th>\n",
       "      <td>Oct 03, 2019</td>\n",
       "      <td>8.50</td>\n",
       "      <td>8.71</td>\n",
       "      <td>8.25</td>\n",
       "      <td>8.71</td>\n",
       "      <td>8.71</td>\n",
       "      <td>58,626,600</td>\n",
       "    </tr>\n",
       "    <tr>\n",
       "      <th>2</th>\n",
       "      <td>Oct 02, 2019</td>\n",
       "      <td>8.56</td>\n",
       "      <td>8.62</td>\n",
       "      <td>8.41</td>\n",
       "      <td>8.51</td>\n",
       "      <td>8.51</td>\n",
       "      <td>47,520,800</td>\n",
       "    </tr>\n",
       "    <tr>\n",
       "      <th>3</th>\n",
       "      <td>Oct 01, 2019</td>\n",
       "      <td>8.96</td>\n",
       "      <td>9.04</td>\n",
       "      <td>8.51</td>\n",
       "      <td>8.61</td>\n",
       "      <td>8.61</td>\n",
       "      <td>68,778,600</td>\n",
       "    </tr>\n",
       "    <tr>\n",
       "      <th>4</th>\n",
       "      <td>Sep 30, 2019</td>\n",
       "      <td>9.08</td>\n",
       "      <td>9.10</td>\n",
       "      <td>8.94</td>\n",
       "      <td>8.94</td>\n",
       "      <td>8.94</td>\n",
       "      <td>35,091,400</td>\n",
       "    </tr>\n",
       "  </tbody>\n",
       "</table>\n",
       "</div>"
      ],
      "text/plain": [
       "           Date  Open  High   Low  Close*  Adj Close**      Volume\n",
       "0  Oct 04, 2019  8.61  8.70  8.54    8.57         8.57  52,272,800\n",
       "1  Oct 03, 2019  8.50  8.71  8.25    8.71         8.71  58,626,600\n",
       "2  Oct 02, 2019  8.56  8.62  8.41    8.51         8.51  47,520,800\n",
       "3  Oct 01, 2019  8.96  9.04  8.51    8.61         8.61  68,778,600\n",
       "4  Sep 30, 2019  9.08  9.10  8.94    8.94         8.94  35,091,400"
      ]
     },
     "execution_count": 5,
     "metadata": {},
     "output_type": "execute_result"
    }
   ],
   "source": [
    "dataset_train.head()"
   ]
  },
  {
   "cell_type": "markdown",
   "metadata": {},
   "source": [
    "## D.\tFeature Scaling\n",
    "\n",
    "Perlu dilakukan scaling pada data yang digunakan untuk mendapatkan performa model yang optimal. Pada tugas ini digunakan Scikit-Learn MinMaxScaler untuk memetakan data ke dalam skala antara nol dan satu."
   ]
  },
  {
   "cell_type": "code",
   "execution_count": 6,
   "metadata": {},
   "outputs": [],
   "source": [
    "from sklearn.preprocessing import MinMaxScaler\n",
    "sc = MinMaxScaler(feature_range = (0, 1))\n",
    "training_set_scaled = sc.fit_transform(training_set)"
   ]
  },
  {
   "cell_type": "markdown",
   "metadata": {},
   "source": [
    "## E.\tCreating Data with Timesteps\n",
    "\n",
    "LSTM mensyaratkan data yang digunakan telah dikodekan dalam format tertentu, umumnya array 3D. Pertama-tama, data dibagi dalam 7 timesteps dan mengonversinya menjadi sebuah array menggunakan NumPy. Selanjutnya, data dikonversi menjadi array 3 dimensi dengan sampel X_train, 7 timestamp, dan satu fitur di setiap step."
   ]
  },
  {
   "cell_type": "code",
   "execution_count": 7,
   "metadata": {},
   "outputs": [],
   "source": [
    "X_train = []\n",
    "y_train = []\n",
    "for i in range(7, 225):\n",
    "    X_train.append(training_set_scaled[i-7:i, 0])\n",
    "    y_train.append(training_set_scaled[i, 0])\n",
    "X_train, y_train = np.array(X_train), np.array(y_train)\n",
    "\n",
    "X_train = np.reshape(X_train, (X_train.shape[0], X_train.shape[1], 1))"
   ]
  },
  {
   "cell_type": "markdown",
   "metadata": {},
   "source": [
    "## F.\tBuilding the LSTM\n",
    "\n",
    "a.\tUntuk membangun LSTM, perlu diimpor beberapa library dari Keras yaitu;\n",
    "-\tSequential untuk membuat neural network.\n",
    "-\tDense untuk membuat densely connected neural network layer\n",
    "-\tLSTM untuk membuat Long Short-Term Memory layer\n",
    "-\tDropout untuk membuat dropout layers yang dapat mencegah overfitting\n"
   ]
  },
  {
   "cell_type": "code",
   "execution_count": 8,
   "metadata": {},
   "outputs": [
    {
     "name": "stderr",
     "output_type": "stream",
     "text": [
      "Using TensorFlow backend.\n"
     ]
    }
   ],
   "source": [
    "from keras.models import Sequential\n",
    "from keras.layers import Dense\n",
    "from keras.layers import LSTM\n",
    "from keras.layers import Dropout"
   ]
  },
  {
   "cell_type": "markdown",
   "metadata": {},
   "source": [
    "b.\tDibuat LSTM layer dengen beberapa argument yaitu;\n",
    "-\t50 units, yang menggambarkan dimensi output space\n",
    "-\treturn_sequences=True, yang memerintahkan output terakhir dari output sequence dijadikan return value.\n",
    "-\tInput shape yang menggambarkan ukuran training set\n",
    "\n",
    "Pada argumen pembuatan Dropout layer, didefinisikan nilai 0,2. Artinya, 20% dari layer akan dieliminasi. Kemudian, ditambahkan Dense layer yang mendefinisikan output dari satu unit. Model tersebut dicompile menggunakan Adam optimizer dan loss dihitung dengan mean_squared_error. Model dijalankan sebanyak 100 epoch dengan batch size sebesar 3. \n"
   ]
  },
  {
   "cell_type": "code",
   "execution_count": 9,
   "metadata": {},
   "outputs": [
    {
     "name": "stdout",
     "output_type": "stream",
     "text": [
      "WARNING:tensorflow:From D:\\Anaconda3\\envs\\kerasTensorflow\\lib\\site-packages\\tensorflow\\python\\ops\\resource_variable_ops.py:435: colocate_with (from tensorflow.python.framework.ops) is deprecated and will be removed in a future version.\n",
      "Instructions for updating:\n",
      "Colocations handled automatically by placer.\n",
      "WARNING:tensorflow:From D:\\Anaconda3\\envs\\kerasTensorflow\\lib\\site-packages\\tensorflow\\python\\ops\\math_ops.py:3066: to_int32 (from tensorflow.python.ops.math_ops) is deprecated and will be removed in a future version.\n",
      "Instructions for updating:\n",
      "Use tf.cast instead.\n",
      "Epoch 1/100\n",
      "218/218 [==============================] - 8s 36ms/step - loss: 0.0790\n",
      "Epoch 2/100\n",
      "218/218 [==============================] - 2s 11ms/step - loss: 0.0263\n",
      "Epoch 3/100\n",
      "218/218 [==============================] - 2s 8ms/step - loss: 0.0214\n",
      "Epoch 4/100\n",
      "218/218 [==============================] - 2s 8ms/step - loss: 0.0252\n",
      "Epoch 5/100\n",
      "218/218 [==============================] - 2s 8ms/step - loss: 0.0200\n",
      "Epoch 6/100\n",
      "218/218 [==============================] - 2s 8ms/step - loss: 0.0205\n",
      "Epoch 7/100\n",
      "218/218 [==============================] - 2s 8ms/step - loss: 0.0191\n",
      "Epoch 8/100\n",
      "218/218 [==============================] - 2s 8ms/step - loss: 0.0185\n",
      "Epoch 9/100\n",
      "218/218 [==============================] - 2s 8ms/step - loss: 0.0202\n",
      "Epoch 10/100\n",
      "218/218 [==============================] - 2s 8ms/step - loss: 0.0169\n",
      "Epoch 11/100\n",
      "218/218 [==============================] - 2s 7ms/step - loss: 0.0168\n",
      "Epoch 12/100\n",
      "218/218 [==============================] - 2s 7ms/step - loss: 0.0176\n",
      "Epoch 13/100\n",
      "218/218 [==============================] - 2s 7ms/step - loss: 0.0155\n",
      "Epoch 14/100\n",
      "218/218 [==============================] - 2s 7ms/step - loss: 0.0186\n",
      "Epoch 15/100\n",
      "218/218 [==============================] - 2s 7ms/step - loss: 0.0165\n",
      "Epoch 16/100\n",
      "218/218 [==============================] - 1s 7ms/step - loss: 0.0164\n",
      "Epoch 17/100\n",
      "218/218 [==============================] - 2s 7ms/step - loss: 0.0168\n",
      "Epoch 18/100\n",
      "218/218 [==============================] - 2s 7ms/step - loss: 0.0147\n",
      "Epoch 19/100\n",
      "218/218 [==============================] - 2s 7ms/step - loss: 0.0170\n",
      "Epoch 20/100\n",
      "218/218 [==============================] - 2s 7ms/step - loss: 0.0151\n",
      "Epoch 21/100\n",
      "218/218 [==============================] - 2s 7ms/step - loss: 0.0120\n",
      "Epoch 22/100\n",
      "218/218 [==============================] - 2s 7ms/step - loss: 0.0132\n",
      "Epoch 23/100\n",
      "218/218 [==============================] - 1s 7ms/step - loss: 0.0141\n",
      "Epoch 24/100\n",
      "218/218 [==============================] - 1s 7ms/step - loss: 0.0142\n",
      "Epoch 25/100\n",
      "218/218 [==============================] - 1s 7ms/step - loss: 0.0108\n",
      "Epoch 26/100\n",
      "218/218 [==============================] - 2s 7ms/step - loss: 0.0119\n",
      "Epoch 27/100\n",
      "218/218 [==============================] - 2s 7ms/step - loss: 0.0123\n",
      "Epoch 28/100\n",
      "218/218 [==============================] - 2s 7ms/step - loss: 0.0102\n",
      "Epoch 29/100\n",
      "218/218 [==============================] - 2s 7ms/step - loss: 0.0098\n",
      "Epoch 30/100\n",
      "218/218 [==============================] - 1s 7ms/step - loss: 0.0115\n",
      "Epoch 31/100\n",
      "218/218 [==============================] - 2s 7ms/step - loss: 0.0117\n",
      "Epoch 32/100\n",
      "218/218 [==============================] - 2s 7ms/step - loss: 0.0083\n",
      "Epoch 33/100\n",
      "218/218 [==============================] - 2s 7ms/step - loss: 0.0080\n",
      "Epoch 34/100\n",
      "218/218 [==============================] - 1s 6ms/step - loss: 0.0089\n",
      "Epoch 35/100\n",
      "218/218 [==============================] - 1s 6ms/step - loss: 0.0086\n",
      "Epoch 36/100\n",
      "218/218 [==============================] - 1s 6ms/step - loss: 0.0101\n",
      "Epoch 37/100\n",
      "218/218 [==============================] - 1s 6ms/step - loss: 0.0099\n",
      "Epoch 38/100\n",
      "218/218 [==============================] - 1s 6ms/step - loss: 0.0082\n",
      "Epoch 39/100\n",
      "218/218 [==============================] - 1s 6ms/step - loss: 0.0081\n",
      "Epoch 40/100\n",
      "218/218 [==============================] - 1s 6ms/step - loss: 0.0082\n",
      "Epoch 41/100\n",
      "218/218 [==============================] - 1s 5ms/step - loss: 0.0063\n",
      "Epoch 42/100\n",
      "218/218 [==============================] - 1s 5ms/step - loss: 0.0072\n",
      "Epoch 43/100\n",
      "218/218 [==============================] - 1s 5ms/step - loss: 0.0067\n",
      "Epoch 44/100\n",
      "218/218 [==============================] - 1s 5ms/step - loss: 0.0072\n",
      "Epoch 45/100\n",
      "218/218 [==============================] - 1s 5ms/step - loss: 0.0072\n",
      "Epoch 46/100\n",
      "218/218 [==============================] - 1s 5ms/step - loss: 0.0077\n",
      "Epoch 47/100\n",
      "218/218 [==============================] - 1s 5ms/step - loss: 0.0073\n",
      "Epoch 48/100\n",
      "218/218 [==============================] - 1s 5ms/step - loss: 0.0067\n",
      "Epoch 49/100\n",
      "218/218 [==============================] - 1s 5ms/step - loss: 0.0070\n",
      "Epoch 50/100\n",
      "218/218 [==============================] - 1s 5ms/step - loss: 0.0061\n",
      "Epoch 51/100\n",
      "218/218 [==============================] - 1s 5ms/step - loss: 0.0081\n",
      "Epoch 52/100\n",
      "218/218 [==============================] - 1s 5ms/step - loss: 0.0079\n",
      "Epoch 53/100\n",
      "218/218 [==============================] - 1s 5ms/step - loss: 0.0064\n",
      "Epoch 54/100\n",
      "218/218 [==============================] - 1s 5ms/step - loss: 0.0068\n",
      "Epoch 55/100\n",
      "218/218 [==============================] - 1s 5ms/step - loss: 0.0071\n",
      "Epoch 56/100\n",
      "218/218 [==============================] - 1s 5ms/step - loss: 0.0065\n",
      "Epoch 57/100\n",
      "218/218 [==============================] - 1s 5ms/step - loss: 0.0073\n",
      "Epoch 58/100\n",
      "218/218 [==============================] - 1s 4ms/step - loss: 0.0059\n",
      "Epoch 59/100\n",
      "218/218 [==============================] - 1s 4ms/step - loss: 0.0058\n",
      "Epoch 60/100\n",
      "218/218 [==============================] - 1s 4ms/step - loss: 0.0059\n",
      "Epoch 61/100\n",
      "218/218 [==============================] - 1s 4ms/step - loss: 0.0062\n",
      "Epoch 62/100\n",
      "218/218 [==============================] - 1s 3ms/step - loss: 0.0062\n",
      "Epoch 63/100\n",
      "218/218 [==============================] - 1s 3ms/step - loss: 0.0057\n",
      "Epoch 64/100\n",
      "218/218 [==============================] - 1s 3ms/step - loss: 0.0058\n",
      "Epoch 65/100\n",
      "218/218 [==============================] - 1s 3ms/step - loss: 0.0063\n",
      "Epoch 66/100\n",
      "218/218 [==============================] - 1s 4ms/step - loss: 0.0054\n",
      "Epoch 67/100\n",
      "218/218 [==============================] - 1s 3ms/step - loss: 0.0053\n",
      "Epoch 68/100\n",
      "218/218 [==============================] - 1s 3ms/step - loss: 0.0057\n",
      "Epoch 69/100\n",
      "218/218 [==============================] - 1s 3ms/step - loss: 0.0064\n",
      "Epoch 70/100\n",
      "218/218 [==============================] - 1s 3ms/step - loss: 0.0076\n",
      "Epoch 71/100\n",
      "218/218 [==============================] - 1s 3ms/step - loss: 0.0063\n",
      "Epoch 72/100\n",
      "218/218 [==============================] - 1s 3ms/step - loss: 0.0067\n",
      "Epoch 73/100\n",
      "218/218 [==============================] - 1s 3ms/step - loss: 0.0051\n",
      "Epoch 74/100\n",
      "218/218 [==============================] - 1s 3ms/step - loss: 0.0060\n",
      "Epoch 75/100\n",
      "218/218 [==============================] - 1s 3ms/step - loss: 0.0048\n",
      "Epoch 76/100\n",
      "218/218 [==============================] - 1s 3ms/step - loss: 0.0058\n",
      "Epoch 77/100\n",
      "218/218 [==============================] - 1s 3ms/step - loss: 0.0056\n",
      "Epoch 78/100\n",
      "218/218 [==============================] - 1s 3ms/step - loss: 0.0056\n",
      "Epoch 79/100\n",
      "218/218 [==============================] - 1s 3ms/step - loss: 0.0058\n",
      "Epoch 80/100\n",
      "218/218 [==============================] - 1s 3ms/step - loss: 0.0063\n",
      "Epoch 81/100\n",
      "218/218 [==============================] - 1s 2ms/step - loss: 0.0055\n",
      "Epoch 82/100\n",
      "218/218 [==============================] - 1s 2ms/step - loss: 0.0060\n",
      "Epoch 83/100\n",
      "218/218 [==============================] - 1s 2ms/step - loss: 0.0052\n",
      "Epoch 84/100\n",
      "218/218 [==============================] - 1s 3ms/step - loss: 0.0060\n",
      "Epoch 85/100\n",
      "218/218 [==============================] - 1s 3ms/step - loss: 0.0055\n",
      "Epoch 86/100\n",
      "218/218 [==============================] - 1s 2ms/step - loss: 0.0053\n",
      "Epoch 87/100\n",
      "218/218 [==============================] - 1s 3ms/step - loss: 0.0050\n",
      "Epoch 88/100\n",
      "218/218 [==============================] - 1s 3ms/step - loss: 0.0054\n",
      "Epoch 89/100\n",
      "218/218 [==============================] - 1s 2ms/step - loss: 0.0049\n",
      "Epoch 90/100\n",
      "218/218 [==============================] - 1s 2ms/step - loss: 0.0055\n",
      "Epoch 91/100\n",
      "218/218 [==============================] - 1s 2ms/step - loss: 0.0055\n",
      "Epoch 92/100\n"
     ]
    },
    {
     "name": "stdout",
     "output_type": "stream",
     "text": [
      "218/218 [==============================] - 1s 2ms/step - loss: 0.0047\n",
      "Epoch 93/100\n",
      "218/218 [==============================] - 1s 2ms/step - loss: 0.0048\n",
      "Epoch 94/100\n",
      "218/218 [==============================] - 1s 2ms/step - loss: 0.0061\n",
      "Epoch 95/100\n",
      "218/218 [==============================] - 1s 2ms/step - loss: 0.0045\n",
      "Epoch 96/100\n",
      "218/218 [==============================] - 1s 2ms/step - loss: 0.0050\n",
      "Epoch 97/100\n",
      "218/218 [==============================] - 1s 2ms/step - loss: 0.0056\n",
      "Epoch 98/100\n",
      "218/218 [==============================] - 1s 2ms/step - loss: 0.0062\n",
      "Epoch 99/100\n",
      "218/218 [==============================] - 1s 3ms/step - loss: 0.0051\n",
      "Epoch 100/100\n",
      "218/218 [==============================] - 1s 3ms/step - loss: 0.0054\n"
     ]
    },
    {
     "data": {
      "text/plain": [
       "<keras.callbacks.callbacks.History at 0xfa098df828>"
      ]
     },
     "execution_count": 9,
     "metadata": {},
     "output_type": "execute_result"
    }
   ],
   "source": [
    "regressor = Sequential()\n",
    "\n",
    "regressor.add(LSTM(units = 50, return_sequences = True, input_shape = (X_train.shape[1], 1)))\n",
    "regressor.add(Dropout(0.2))\n",
    "\n",
    "regressor.add(LSTM(units = 50, return_sequences = True))\n",
    "regressor.add(Dropout(0.2))\n",
    "\n",
    "regressor.add(LSTM(units = 50, return_sequences = True))\n",
    "regressor.add(Dropout(0.2))\n",
    "\n",
    "regressor.add(LSTM(units = 50))\n",
    "regressor.add(Dropout(0.2))\n",
    "\n",
    "regressor.add(Dense(units = 1))\n",
    "\n",
    "regressor.compile(optimizer = 'adam', loss = 'mean_squared_error')\n",
    "\n",
    "regressor.fit(X_train, y_train, epochs = 100, batch_size = 3)"
   ]
  },
  {
   "cell_type": "markdown",
   "metadata": {},
   "source": [
    "## G.\tPredicting Future Stock using the Test Set\n",
    "\n",
    "a.\tSetelah membangun model, sekarang saatnya untuk menguji kinerjanya. Pertama-tama, perlu diimpor test set yang akan digunakan untuk membuat prediksi. Dataset yang akan digunakan untuk testing disimpan dalam file tatatest.csv. File tersebut memiliki format yang sama dengan dataset training. Hanya kolom Open yang akan digunakan sebagai test set.\n"
   ]
  },
  {
   "cell_type": "code",
   "execution_count": 10,
   "metadata": {},
   "outputs": [],
   "source": [
    "dataset_test = pd.read_csv('GEtest.csv', sep = ';')\n",
    "real_stock_price = dataset_test.iloc[:, 1:2].values"
   ]
  },
  {
   "cell_type": "markdown",
   "metadata": {},
   "source": [
    "b.\tUntuk melakukan prediksi harga saham, kita perlu melakukan beberapa hal setelah memuat test set:\n",
    "-\tGabungkan training set dan test set pada sumbu 0.\n",
    "-\tAtur time step sebesar 7 (seperti pada tahap sebelumnya)\n",
    "-\tGunakan MinMaxScaler untuk mentransformasikan dataset baru tersebut\n",
    "-\tKembalikan bentuk dataset menjadi bentuk sebelumnya\n",
    "-\tSetelah membuat prediksi, gunakan inverse_transform untuk mengembalikan harga saham ke dalam format yang mudah dibaca.\n"
   ]
  },
  {
   "cell_type": "code",
   "execution_count": 11,
   "metadata": {},
   "outputs": [],
   "source": [
    "dataset_total = pd.concat((dataset_train['Open'], dataset_test['Open']), axis = 0)\n",
    "inputs = dataset_total[len(dataset_total) - len(dataset_test) - 7:].values\n",
    "inputs = inputs.reshape(-1,1)\n",
    "inputs = sc.transform(inputs)\n",
    "X_test = []\n",
    "for i in range(7, 32):\n",
    "    X_test.append(inputs[i-7:i, 0])\n",
    "X_test = np.array(X_test)\n",
    "X_test = np.reshape(X_test, (X_test.shape[0], X_test.shape[1], 1))\n",
    "predicted_stock_price = regressor.predict(X_test)\n",
    "predicted_stock_price = sc.inverse_transform(predicted_stock_price)"
   ]
  },
  {
   "cell_type": "markdown",
   "metadata": {},
   "source": [
    "## H.\tPlotting the Result\n",
    "Gunakan Matplotlib untuk memvisualisasikan harga saham hasil prediksi dan harga saham yang sebenarnya."
   ]
  },
  {
   "cell_type": "code",
   "execution_count": 12,
   "metadata": {},
   "outputs": [
    {
     "data": {
      "image/png": "[encoded data removed]",
      "text/plain": [
       "<Figure size 432x288 with 1 Axes>"
      ]
     },
     "metadata": {
      "needs_background": "light"
     },
     "output_type": "display_data"
    }
   ],
   "source": [
    "plt.plot(real_stock_price, color = 'black', label = 'GE Stock Price')\n",
    "plt.plot(predicted_stock_price, color = 'green', label = 'Predicted GE Stock Price')\n",
    "plt.title('GE Stock Price Prediction')\n",
    "plt.xlabel('Time')\n",
    "plt.ylabel('GE Stock Price')\n",
    "plt.legend()\n",
    "plt.show()"
   ]
  },
  {
   "cell_type": "markdown",
   "metadata": {},
   "source": [
    "Pada grafik tersebut dapat dilihat bahwa LSTM dapat memprediksi kenaikan dan penurunan harga saham GE. Dengan demikian, dapat disimpulkan bahwa LSTM dapat memprediksi data sekuensial secara akurat.\n",
    "\n",
    "## I.\tTamat\n"
   ]
  },
  {
   "cell_type": "code",
   "execution_count": null,
   "metadata": {},
   "outputs": [],
   "source": []
  }
 ],
 "metadata": {
  "kernelspec": {
   "display_name": "Python 3",
   "language": "python",
   "name": "python3"
  },
  "language_info": {
   "codemirror_mode": {
    "name": "ipython",
    "version": 3
   },
   "file_extension": ".py",
   "mimetype": "text/x-python",
   "name": "python",
   "nbconvert_exporter": "python",
   "pygments_lexer": "ipython3",
   "version": "3.6.5"
  }
 },
 "nbformat": 4,
 "nbformat_minor": 2
}
